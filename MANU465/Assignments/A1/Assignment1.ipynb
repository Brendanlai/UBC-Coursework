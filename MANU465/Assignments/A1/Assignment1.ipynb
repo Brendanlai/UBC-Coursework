{
  "cells": [
    {
      "cell_type": "markdown",
      "id": "d3605422-b34f-4199-aa01-c6d7ba080622",
      "metadata": {
        "id": "d3605422-b34f-4199-aa01-c6d7ba080622"
      },
      "source": [
        "# Assignment 1 \n",
        "\n",
        "Student Name: Brendan Lai<br>\n",
        "Student ID: 19241173\n",
        "\n",
        "### 1. Project Summary\n",
        "The dataset contains 9568 data points collected from a Combined Cycle Power Plant over 6 years (2006-2011) when the plant was set to work with a full load. The dataset consists of hourly average ambient variables Temperature (T), Ambient Pressure (AP), Relative Humidity (RH), and Exhaust Vacuum (V) to predict the net hourly electrical energy output (EP) of the plant.\n",
        "\n",
        "Features consist of hourly average ambient variables\n",
        "\n",
        "- Temperature (T) in the range 1.81°C and 37.11°C,\n",
        "- Ambient Pressure (AP) in the range 992.89-1033.30 millibar,\n",
        "- Relative Humidity (RH) in the range 25.56% to 100.16%\n",
        "- Exhaust Vacuum (V) in the range 25.36-81.56 cm Hg\n",
        "- Net hourly electrical energy output (EP) 420.26-495.76 MW"
      ]
    },
    {
      "cell_type": "markdown",
      "id": "681cf9ed-3af2-426e-a4c0-f700e7a9e729",
      "metadata": {
        "id": "681cf9ed-3af2-426e-a4c0-f700e7a9e729"
      },
      "source": [
        "### 2. Data Pre-processing \n"
      ]
    },
    {
      "cell_type": "markdown",
      "id": "9ebaafd4",
      "metadata": {},
      "source": [
        "##### Importing necessary libraries"
      ]
    },
    {
      "cell_type": "code",
      "execution_count": 18,
      "id": "50435b6a-111b-495e-9af9-ca2aa0c43bb3",
      "metadata": {
        "id": "50435b6a-111b-495e-9af9-ca2aa0c43bb3"
      },
      "outputs": [],
      "source": [
        "import numpy as np \n",
        "import pandas as pd \n",
        "from matplotlib import pyplot as plt\n",
        "import seaborn as sns"
      ]
    },
    {
      "cell_type": "markdown",
      "id": "d65cf566-b637-4a74-893a-4e88e813b96d",
      "metadata": {
        "id": "d65cf566-b637-4a74-893a-4e88e813b96d"
      },
      "source": [
        "##### Importing the Dataset"
      ]
    },
    {
      "cell_type": "code",
      "execution_count": 19,
      "id": "95d47113-cba9-49e0-8240-afacc0e46774",
      "metadata": {
        "id": "95d47113-cba9-49e0-8240-afacc0e46774"
      },
      "outputs": [],
      "source": [
        "dataset = pd.read_csv('Power Plant Data.csv')"
      ]
    },
    {
      "cell_type": "markdown",
      "id": "485b15b0-a80c-4f4b-9a3c-a90b7b54eb56",
      "metadata": {
        "id": "485b15b0-a80c-4f4b-9a3c-a90b7b54eb56"
      },
      "source": [
        "##### Showing the Dataset in a Table"
      ]
    },
    {
      "cell_type": "code",
      "execution_count": 20,
      "id": "3e1988e3-1997-476e-8e95-18e45e222715",
      "metadata": {
        "id": "3e1988e3-1997-476e-8e95-18e45e222715"
      },
      "outputs": [
        {
          "data": {
            "text/html": [
              "<div>\n",
              "<style scoped>\n",
              "    .dataframe tbody tr th:only-of-type {\n",
              "        vertical-align: middle;\n",
              "    }\n",
              "\n",
              "    .dataframe tbody tr th {\n",
              "        vertical-align: top;\n",
              "    }\n",
              "\n",
              "    .dataframe thead th {\n",
              "        text-align: right;\n",
              "    }\n",
              "</style>\n",
              "<table border=\"1\" class=\"dataframe\">\n",
              "  <thead>\n",
              "    <tr style=\"text-align: right;\">\n",
              "      <th></th>\n",
              "      <th>Ambient Temperature (C)</th>\n",
              "      <th>Exhaust Vacuum (cm Hg)</th>\n",
              "      <th>Ambient Pressure (milibar)</th>\n",
              "      <th>Relative Humidity (%)</th>\n",
              "      <th>Hourly Electrical Energy output (MW)</th>\n",
              "    </tr>\n",
              "  </thead>\n",
              "  <tbody>\n",
              "    <tr>\n",
              "      <th>0</th>\n",
              "      <td>14.96</td>\n",
              "      <td>41.76</td>\n",
              "      <td>1024.07</td>\n",
              "      <td>73.17</td>\n",
              "      <td>463.26</td>\n",
              "    </tr>\n",
              "    <tr>\n",
              "      <th>1</th>\n",
              "      <td>25.18</td>\n",
              "      <td>62.96</td>\n",
              "      <td>1020.04</td>\n",
              "      <td>59.08</td>\n",
              "      <td>444.37</td>\n",
              "    </tr>\n",
              "    <tr>\n",
              "      <th>2</th>\n",
              "      <td>5.11</td>\n",
              "      <td>39.40</td>\n",
              "      <td>1012.16</td>\n",
              "      <td>92.14</td>\n",
              "      <td>488.56</td>\n",
              "    </tr>\n",
              "    <tr>\n",
              "      <th>3</th>\n",
              "      <td>20.86</td>\n",
              "      <td>57.32</td>\n",
              "      <td>1010.24</td>\n",
              "      <td>76.64</td>\n",
              "      <td>446.48</td>\n",
              "    </tr>\n",
              "    <tr>\n",
              "      <th>4</th>\n",
              "      <td>10.82</td>\n",
              "      <td>37.50</td>\n",
              "      <td>1009.23</td>\n",
              "      <td>96.62</td>\n",
              "      <td>473.90</td>\n",
              "    </tr>\n",
              "  </tbody>\n",
              "</table>\n",
              "</div>"
            ],
            "text/plain": [
              "   Ambient Temperature (C)   Exhaust Vacuum (cm Hg)  \\\n",
              "0                     14.96                   41.76   \n",
              "1                     25.18                   62.96   \n",
              "2                      5.11                   39.40   \n",
              "3                     20.86                   57.32   \n",
              "4                     10.82                   37.50   \n",
              "\n",
              "   Ambient Pressure (milibar)  Relative Humidity (%)  \\\n",
              "0                     1024.07                  73.17   \n",
              "1                     1020.04                  59.08   \n",
              "2                     1012.16                  92.14   \n",
              "3                     1010.24                  76.64   \n",
              "4                     1009.23                  96.62   \n",
              "\n",
              "   Hourly Electrical Energy output (MW)  \n",
              "0                                463.26  \n",
              "1                                444.37  \n",
              "2                                488.56  \n",
              "3                                446.48  \n",
              "4                                473.90  "
            ]
          },
          "execution_count": 20,
          "metadata": {},
          "output_type": "execute_result"
        }
      ],
      "source": [
        "dataset.head()"
      ]
    },
    {
      "cell_type": "markdown",
      "id": "057741e5-5c38-4bde-ba63-b5a25831ad0f",
      "metadata": {
        "id": "057741e5-5c38-4bde-ba63-b5a25831ad0f"
      },
      "source": [
        "##### A Quick Review of the Data"
      ]
    },
    {
      "cell_type": "code",
      "execution_count": 21,
      "id": "3a68688c-a2e0-4fd9-83cb-6d891981ab75",
      "metadata": {
        "id": "3a68688c-a2e0-4fd9-83cb-6d891981ab75"
      },
      "outputs": [
        {
          "name": "stdout",
          "output_type": "stream",
          "text": [
            "<class 'pandas.core.frame.DataFrame'>\n",
            "RangeIndex: 9568 entries, 0 to 9567\n",
            "Data columns (total 5 columns):\n",
            " #   Column                                Non-Null Count  Dtype  \n",
            "---  ------                                --------------  -----  \n",
            " 0   Ambient Temperature (C)               9568 non-null   float64\n",
            " 1   Exhaust Vacuum (cm Hg)                9568 non-null   float64\n",
            " 2   Ambient Pressure (milibar)            9568 non-null   float64\n",
            " 3   Relative Humidity (%)                 9568 non-null   float64\n",
            " 4   Hourly Electrical Energy output (MW)  9568 non-null   float64\n",
            "dtypes: float64(5)\n",
            "memory usage: 373.9 KB\n"
          ]
        }
      ],
      "source": [
        "dataset.info()"
      ]
    },
    {
      "cell_type": "markdown",
      "id": "c17a56f1-51c6-48c7-af34-e54f0fb96194",
      "metadata": {
        "id": "c17a56f1-51c6-48c7-af34-e54f0fb96194"
      },
      "source": [
        "##### Encoding The Categorical Data \n",
        "Separate inputs and outputs"
      ]
    },
    {
      "cell_type": "code",
      "execution_count": 22,
      "id": "u8HpDM2ED6-X",
      "metadata": {
        "id": "u8HpDM2ED6-X"
      },
      "outputs": [],
      "source": [
        "x = dataset.iloc[:, 0:3]\n",
        "y = dataset.iloc[:, -1]"
      ]
    },
    {
      "cell_type": "markdown",
      "id": "43a4add3-522d-4854-8f50-919175b3cbe6",
      "metadata": {
        "id": "43a4add3-522d-4854-8f50-919175b3cbe6"
      },
      "source": [
        "##### Showing the Input Data in a Table Format"
      ]
    },
    {
      "cell_type": "code",
      "execution_count": 23,
      "id": "QjZPFE8YD9uT",
      "metadata": {
        "id": "QjZPFE8YD9uT"
      },
      "outputs": [
        {
          "data": {
            "text/html": [
              "<div>\n",
              "<style scoped>\n",
              "    .dataframe tbody tr th:only-of-type {\n",
              "        vertical-align: middle;\n",
              "    }\n",
              "\n",
              "    .dataframe tbody tr th {\n",
              "        vertical-align: top;\n",
              "    }\n",
              "\n",
              "    .dataframe thead th {\n",
              "        text-align: right;\n",
              "    }\n",
              "</style>\n",
              "<table border=\"1\" class=\"dataframe\">\n",
              "  <thead>\n",
              "    <tr style=\"text-align: right;\">\n",
              "      <th></th>\n",
              "      <th>Ambient Temperature (C)</th>\n",
              "      <th>Exhaust Vacuum (cm Hg)</th>\n",
              "      <th>Ambient Pressure (milibar)</th>\n",
              "    </tr>\n",
              "  </thead>\n",
              "  <tbody>\n",
              "    <tr>\n",
              "      <th>0</th>\n",
              "      <td>14.96</td>\n",
              "      <td>41.76</td>\n",
              "      <td>1024.07</td>\n",
              "    </tr>\n",
              "    <tr>\n",
              "      <th>1</th>\n",
              "      <td>25.18</td>\n",
              "      <td>62.96</td>\n",
              "      <td>1020.04</td>\n",
              "    </tr>\n",
              "    <tr>\n",
              "      <th>2</th>\n",
              "      <td>5.11</td>\n",
              "      <td>39.40</td>\n",
              "      <td>1012.16</td>\n",
              "    </tr>\n",
              "    <tr>\n",
              "      <th>3</th>\n",
              "      <td>20.86</td>\n",
              "      <td>57.32</td>\n",
              "      <td>1010.24</td>\n",
              "    </tr>\n",
              "    <tr>\n",
              "      <th>4</th>\n",
              "      <td>10.82</td>\n",
              "      <td>37.50</td>\n",
              "      <td>1009.23</td>\n",
              "    </tr>\n",
              "  </tbody>\n",
              "</table>\n",
              "</div>"
            ],
            "text/plain": [
              "   Ambient Temperature (C)   Exhaust Vacuum (cm Hg)  \\\n",
              "0                     14.96                   41.76   \n",
              "1                     25.18                   62.96   \n",
              "2                      5.11                   39.40   \n",
              "3                     20.86                   57.32   \n",
              "4                     10.82                   37.50   \n",
              "\n",
              "   Ambient Pressure (milibar)  \n",
              "0                     1024.07  \n",
              "1                     1020.04  \n",
              "2                     1012.16  \n",
              "3                     1010.24  \n",
              "4                     1009.23  "
            ]
          },
          "execution_count": 23,
          "metadata": {},
          "output_type": "execute_result"
        }
      ],
      "source": [
        "x.head()"
      ]
    },
    {
      "cell_type": "markdown",
      "id": "29b469a6-89a5-4e9c-a0ba-5642bb1db9dc",
      "metadata": {
        "id": "29b469a6-89a5-4e9c-a0ba-5642bb1db9dc"
      },
      "source": [
        "##### A Quick Check of the Output Data"
      ]
    },
    {
      "cell_type": "code",
      "execution_count": 24,
      "id": "t-16kWppD_iI",
      "metadata": {
        "colab": {
          "base_uri": "https://localhost:8080/",
          "height": 206
        },
        "id": "t-16kWppD_iI",
        "outputId": "82afba53-4613-4365-ffc8-4935297afa2a"
      },
      "outputs": [
        {
          "data": {
            "text/plain": [
              "0    463.26\n",
              "1    444.37\n",
              "2    488.56\n",
              "3    446.48\n",
              "4    473.90\n",
              "Name: Hourly Electrical Energy output (MW), dtype: float64"
            ]
          },
          "execution_count": 24,
          "metadata": {},
          "output_type": "execute_result"
        }
      ],
      "source": [
        "y.head()"
      ]
    },
    {
      "cell_type": "markdown",
      "id": "5a3158a8-d49a-44b9-bd32-0c5dbf55b680",
      "metadata": {
        "id": "5a3158a8-d49a-44b9-bd32-0c5dbf55b680"
      },
      "source": [
        "##### Splitting the Dataset into the Training Set and Test Set"
      ]
    },
    {
      "cell_type": "code",
      "execution_count": 25,
      "id": "hPtdZ9OcEErL",
      "metadata": {
        "id": "hPtdZ9OcEErL"
      },
      "outputs": [],
      "source": [
        "from sklearn.model_selection import train_test_split\n",
        "\n",
        "x_train, x_test, y_train, y_test = train_test_split(x, y, test_size=0.2, random_state=1)"
      ]
    },
    {
      "cell_type": "markdown",
      "id": "50ad566d-d2a5-46b3-9fc5-ee9ee974ba6e",
      "metadata": {
        "id": "50ad566d-d2a5-46b3-9fc5-ee9ee974ba6e"
      },
      "source": [
        "### 3. Training and Testing Predictive Models"
      ]
    },
    {
      "cell_type": "markdown",
      "id": "e2cd7fcb",
      "metadata": {},
      "source": [
        "### Method 1 - Multiple Linear Regression\n"
      ]
    },
    {
      "cell_type": "code",
      "execution_count": 10,
      "id": "48a00309",
      "metadata": {},
      "outputs": [],
      "source": [
        "from sklearn.linear_model import LinearRegression \n",
        "\n",
        "Model = LinearRegression() \n",
        "linearRegressionModel = Model.fit(x_train, y_train)\n",
        "linRegress_pred = linearRegressionModel.predict(x_test)\n"
      ]
    },
    {
      "cell_type": "code",
      "execution_count": 11,
      "id": "437ae8ed",
      "metadata": {},
      "outputs": [
        {
          "name": "stdout",
          "output_type": "stream",
          "text": [
            "The root mean squared error is: 4.824469302054682\n",
            "0.9224748485647559\n"
          ]
        }
      ],
      "source": [
        "from sklearn.metrics import mean_squared_error\n",
        "\n",
        "mse = mean_squared_error(y_test, linRegress_pred)\n",
        "rmse = mse ** 0.5\n",
        "print(f\"The root mean squared error is: {rmse}\")\n",
        "\n",
        "corr_matrix = np.corrcoef(y_test, linRegress_pred)\n",
        "corr = corr_matrix[0,1]\n",
        "R_sq = corr**2\n",
        "print(R_sq)"
      ]
    },
    {
      "cell_type": "markdown",
      "id": "3bdf8c6d",
      "metadata": {},
      "source": [
        "##### Scaling features\n",
        "Now what happens if we scale our data for the linear regression model?\n"
      ]
    },
    {
      "cell_type": "code",
      "execution_count": 26,
      "id": "6c2ac18a",
      "metadata": {},
      "outputs": [],
      "source": [
        "from sklearn.preprocessing import StandardScaler\n",
        "sc = StandardScaler()\n",
        "\n",
        "x_train_scaled = sc.fit_transform(x_train)\n",
        "x_test_scaled = sc.fit_transform(x_test)\n",
        "\n",
        "scaled_linearRegressionModel = Model.fit(x_train_scaled, y_train)\n",
        "scaled_linRegress_pred = linearRegressionModel.predict(x_test_scaled)"
      ]
    },
    {
      "cell_type": "code",
      "execution_count": 28,
      "id": "3388f9be",
      "metadata": {},
      "outputs": [
        {
          "name": "stdout",
          "output_type": "stream",
          "text": [
            "The root mean squared error is: 4.8324180134414725\n",
            "The R squared value of the linear regression model applied on scaled data is: 0.9224772517166426\n"
          ]
        }
      ],
      "source": [
        "mse = mean_squared_error(y_test, scaled_linRegress_pred)\n",
        "rmse = mse ** 0.5\n",
        "print(f\"The root mean squared error is: {rmse}\")\n",
        "\n",
        "corr_matrix = np.corrcoef(y_test, scaled_linRegress_pred)\n",
        "corr = corr_matrix[0,1]\n",
        "R_sq = corr**2\n",
        "print(f\"The R squared value of the linear regression model applied on scaled data is: {R_sq}\")"
      ]
    },
    {
      "cell_type": "markdown",
      "id": "0b7187d6",
      "metadata": {},
      "source": [
        "As we can see the $R^{2}$ value does not change between the scaled and non scaled data.\n",
        "Given the resulting value we can also see with reasonable certainty that our model is accurate."
      ]
    },
    {
      "cell_type": "markdown",
      "id": "e74fe654",
      "metadata": {},
      "source": [
        "### Method 2 - Support Vector Regression\n"
      ]
    },
    {
      "cell_type": "code",
      "execution_count": 29,
      "id": "EC-qnNujSK77",
      "metadata": {
        "colab": {
          "base_uri": "https://localhost:8080/"
        },
        "id": "EC-qnNujSK77",
        "outputId": "19a5dc3e-f381-41f5-fa65-90a6c4da30dc"
      },
      "outputs": [],
      "source": [
        "# Support vector regression\n",
        "from sklearn.svm import SVR\n",
        "\n",
        "classifier = SVR(kernel = 'rbf')\n",
        "classifier.fit(x_train, y_train)\n",
        "svm_pred = classifier.predict(x_test)"
      ]
    },
    {
      "cell_type": "code",
      "execution_count": 30,
      "id": "82633e17",
      "metadata": {},
      "outputs": [
        {
          "name": "stdout",
          "output_type": "stream",
          "text": [
            "The R squared value for the non-scaled SVR model is: 0.37168449856535546\n"
          ]
        }
      ],
      "source": [
        "from sklearn.metrics import r2_score\n",
        "\n",
        "sc = r2_score(y_test, svm_pred)\n",
        "print(f\"The R squared value for the non-scaled SVR model is: {sc}\")"
      ]
    },
    {
      "cell_type": "markdown",
      "id": "a12b3faf",
      "metadata": {},
      "source": [
        "##### Scaled results?"
      ]
    },
    {
      "cell_type": "code",
      "execution_count": 32,
      "id": "bfb81dc7",
      "metadata": {},
      "outputs": [
        {
          "name": "stdout",
          "output_type": "stream",
          "text": [
            "0.9402429999585048\n"
          ]
        }
      ],
      "source": [
        "classifier.fit(x_train_scaled, y_train)\n",
        "svm_pred_scaled = classifier.predict(x_test_scaled)\n",
        "\n",
        "# print results\n",
        "sc = r2_score(y_test, svm_pred_scaled)\n",
        "print(sc)"
      ]
    },
    {
      "cell_type": "markdown",
      "id": "120a46ed",
      "metadata": {},
      "source": [
        "As we see here given the significantly improved $R^{2}$ value that the scaling of the inputs drastically improved the models capability of prediction\n",
        "Further, we see that comparing our SVR and linear regression that the SVR was the more accurate model"
      ]
    },
    {
      "cell_type": "markdown",
      "id": "712965d7",
      "metadata": {},
      "source": [
        "### Some further data analysis"
      ]
    },
    {
      "cell_type": "code",
      "execution_count": null,
      "id": "ed9e7729",
      "metadata": {},
      "outputs": [],
      "source": []
    }
  ],
  "metadata": {
    "colab": {
      "provenance": []
    },
    "kernelspec": {
      "display_name": "Python 3.9.8 64-bit",
      "language": "python",
      "name": "python3"
    },
    "language_info": {
      "codemirror_mode": {
        "name": "ipython",
        "version": 3
      },
      "file_extension": ".py",
      "mimetype": "text/x-python",
      "name": "python",
      "nbconvert_exporter": "python",
      "pygments_lexer": "ipython3",
      "version": "3.9.8"
    },
    "vscode": {
      "interpreter": {
        "hash": "aee8b7b246df8f9039afb4144a1f6fd8d2ca17a180786b69acc140d282b71a49"
      }
    }
  },
  "nbformat": 4,
  "nbformat_minor": 5
}
