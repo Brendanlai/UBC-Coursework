{
 "cells": [
  {
   "cell_type": "code",
   "execution_count": 1,
   "metadata": {},
   "outputs": [],
   "source": [
    "#Brendan Lai - 19241173\n",
    "import pulp"
   ]
  },
  {
   "cell_type": "code",
   "execution_count": 2,
   "metadata": {},
   "outputs": [],
   "source": [
    "m = n =10;\n",
    "\n",
    "col = [j + 1 for j in range(n)]\n",
    "row = [i + 1 for i in range(m)]\n",
    "\n",
    "A = {i: {j: ((-2)**(i+j) * (i*i - j*j)) for j in col} for i in row}\n",
    "B = {i: ((-2)**i) for i in row}"
   ]
  },
  {
   "cell_type": "code",
   "execution_count": 3,
   "metadata": {},
   "outputs": [],
   "source": [
    "#Formulate the variables\n",
    "x = pulp.LpVariable.dicts(\"x\", range(n), lowBound=0) # Instantiate optimum variables (n=10 of them)\n",
    "\n",
    "optimum = pulp.LpProblem(\"max\",pulp.LpMaximize)\n",
    "optimum += pulp.lpSum(1+x[0]), \"objective function\" "
   ]
  },
  {
   "cell_type": "code",
   "execution_count": 4,
   "metadata": {},
   "outputs": [],
   "source": [
    "# Constraints\n",
    "# note that the indexing needed to be adjusted since the Lp variables are zero based while the dictionary lists (A and B) are 1 based indexed\n",
    "for i in range(1, n + 1):\n",
    "    lhs = pulp.lpSum(A[i][j] * x[j - 1] for j in range (1, n + 1)) \n",
    "    rhs = pulp.lpSum([B[i]])\n",
    "#     print(lhs, \"<=\",  rhs) Uncomment to unravel each individual constraint\n",
    "    optimum += lhs <= rhs\n",
    "    \n"
   ]
  },
  {
   "cell_type": "code",
   "execution_count": 5,
   "metadata": {},
   "outputs": [
    {
     "name": "stdout",
     "output_type": "stream",
     "text": [
      "Yes, a vector satisifes (*) where m=n=10 and an existent vector x is:\n",
      "\n",
      "x_0 = 0.0\n",
      "x_1 = 0.0032467532\n",
      "x_2 = 0.0\n",
      "x_3 = 0.0\n",
      "x_4 = 0.0\n",
      "x_5 = 0.0\n",
      "x_6 = 0.0\n",
      "x_7 = 0.0\n",
      "x_8 = 2.536526e-05\n",
      "x_9 = 0.0\n"
     ]
    }
   ],
   "source": [
    "optimum.solve()\n",
    "print(\"Yes, a vector satisifes (*) where m=n=10 and an existent vector x is:\\n\")\n",
    "\n",
    "for variable in optimum.variables():\n",
    "    print(variable.name,\"=\",variable.varValue)\n",
    "# print(\"\\nmax:\", pulp.value(optimum.objective))"
   ]
  },
  {
   "cell_type": "code",
   "execution_count": 6,
   "metadata": {},
   "outputs": [
    {
     "data": {
      "text/plain": [
       "max:\n",
       "MAXIMIZE\n",
       "1*x_0 + 1\n",
       "SUBJECT TO\n",
       "_C1: 24 x_1 - 128 x_2 + 480 x_3 - 1536 x_4 + 4480 x_5 - 12288 x_6 + 32256 x_7\n",
       " - 81920 x_8 + 202752 x_9 <= -2\n",
       "\n",
       "_C2: - 24 x_0 + 160 x_2 - 768 x_3 + 2688 x_4 - 8192 x_5 + 23040 x_6\n",
       " - 61440 x_7 + 157696 x_8 - 393216 x_9 <= 4\n",
       "\n",
       "_C3: 128 x_0 - 160 x_1 + 896 x_3 - 4096 x_4 + 13824 x_5 - 40960 x_6\n",
       " + 112640 x_7 - 294912 x_8 + 745472 x_9 <= -8\n",
       "\n",
       "_C4: - 480 x_0 + 768 x_1 - 896 x_2 + 4608 x_4 - 20480 x_5 + 67584 x_6\n",
       " - 196608 x_7 + 532480 x_8 - 1376256 x_9 <= 16\n",
       "\n",
       "_C5: 1536 x_0 - 2688 x_1 + 4096 x_2 - 4608 x_3 + 22528 x_5 - 98304 x_6\n",
       " + 319488 x_7 - 917504 x_8 + 2457600 x_9 <= -32\n",
       "\n",
       "_C6: - 4480 x_0 + 8192 x_1 - 13824 x_2 + 20480 x_3 - 22528 x_4 + 106496 x_6\n",
       " - 458752 x_7 + 1474560 x_8 - 4194304 x_9 <= 64\n",
       "\n",
       "_C7: 12288 x_0 - 23040 x_1 + 40960 x_2 - 67584 x_3 + 98304 x_4 - 106496 x_5\n",
       " + 491520 x_7 - 2097152 x_8 + 6684672 x_9 <= -128\n",
       "\n",
       "_C8: - 32256 x_0 + 61440 x_1 - 112640 x_2 + 196608 x_3 - 319488 x_4\n",
       " + 458752 x_5 - 491520 x_6 + 2228224 x_8 - 9437184 x_9 <= 256\n",
       "\n",
       "_C9: 81920 x_0 - 157696 x_1 + 294912 x_2 - 532480 x_3 + 917504 x_4\n",
       " - 1474560 x_5 + 2097152 x_6 - 2228224 x_7 + 9961472 x_9 <= -512\n",
       "\n",
       "_C10: - 202752 x_0 + 393216 x_1 - 745472 x_2 + 1376256 x_3 - 2457600 x_4\n",
       " + 4194304 x_5 - 6684672 x_6 + 9437184 x_7 - 9961472 x_8 <= 1024\n",
       "\n",
       "VARIABLES\n",
       "x_0 Continuous\n",
       "x_1 Continuous\n",
       "x_2 Continuous\n",
       "x_3 Continuous\n",
       "x_4 Continuous\n",
       "x_5 Continuous\n",
       "x_6 Continuous\n",
       "x_7 Continuous\n",
       "x_8 Continuous\n",
       "x_9 Continuous"
      ]
     },
     "execution_count": 6,
     "metadata": {},
     "output_type": "execute_result"
    }
   ],
   "source": [
    "optimum"
   ]
  },
  {
   "cell_type": "code",
   "execution_count": 7,
   "metadata": {},
   "outputs": [
    {
     "data": {
      "text/plain": [
       "[1, 2, 3, 4, 5, 6, 7, 8, 9, 10]"
      ]
     },
     "execution_count": 7,
     "metadata": {},
     "output_type": "execute_result"
    }
   ],
   "source": [
    "row"
   ]
  },
  {
   "cell_type": "code",
   "execution_count": null,
   "metadata": {},
   "outputs": [],
   "source": []
  }
 ],
 "metadata": {
  "kernelspec": {
   "display_name": "Python 3",
   "language": "python",
   "name": "python3"
  },
  "language_info": {
   "codemirror_mode": {
    "name": "ipython",
    "version": 3
   },
   "file_extension": ".py",
   "mimetype": "text/x-python",
   "name": "python",
   "nbconvert_exporter": "python",
   "pygments_lexer": "ipython3",
   "version": "3.8.1"
  }
 },
 "nbformat": 4,
 "nbformat_minor": 4
}
