{
 "cells": [
  {
   "cell_type": "code",
   "execution_count": 1,
   "metadata": {},
   "outputs": [],
   "source": [
    "# math340 - HW9 - Brendan Lai - 19241173 - Question 3\n",
    "import pulp\n",
    "import numpy as np"
   ]
  },
  {
   "cell_type": "code",
   "execution_count": 14,
   "metadata": {},
   "outputs": [],
   "source": [
    "# Use data from the last 12 months\n",
    "R1 = [1,1.003,1.005,1.007,1.002,1.001,1.005,1.004,1.004,1.008,1.007,1.002]\n",
    "R2 = [1.044,1.015,1.024,1.027,1.040,0.995,1.044,1.060,1,1.03,0.963,1.005]\n",
    "R3 = [1.068,1.051,1.062,0.98,0.991,0.969,1.086,1.043,0.963,0.949,1.034,1.022]\n",
    "R4 = [1.016,1.039,0.994,0.971,1.009,1.030,1.007,1.023,1.040,1.012,1.023,0.995]\n",
    "R5 = [1.035,1.046,1.0008,0.989,1.021,0.997,1.024,1.028,1.038,1.011,0.943,0.999]\n",
    "R6 = [1.032,1.047,1.01,0.973,1.02,0.989,1.028,1.04,1.04,1.07,0.974,0.995]\n",
    "R7 = [1.004,1.028,1.021,0.985,1.02,1.02,0.991,1.018,0.999,1.039,1.016,1.018]\n",
    "R8 = [0.987,1.049,1.036,1.053,0.996,0.999,1.026,1.053,0.985,1.028,1.048,1.023]\n",
    "R9 = [1.014,1.073,1.002,0.977,1.03,1.007,0.999,1.003,1.015,1.029,1.055,1]\n",
    "\n",
    "T = len(R1)\n",
    "\n",
    "# calculate the r_j's\n",
    "r = {\n",
    "    0: 1/T * np.sum(R1),\n",
    "    1: 1/T * np.sum(R2),\n",
    "    2: 1/T * np.sum(R3),\n",
    "    3: 1/T * np.sum(R4),\n",
    "    4: 1/T * np.sum(R5),\n",
    "    5: 1/T * np.sum(R6),\n",
    "    6: 1/T * np.sum(R7),\n",
    "    7: 1/T * np.sum(R8),\n",
    "    8: 1/T * np.sum(R9),     \n",
    "}\n",
    "# # R_j(t)\n",
    "# R = {\n",
    "#     0: np.sum(R1),\n",
    "#     1: np.sum(R2),\n",
    "#     2: np.sum(R3),\n",
    "#     3: np.sum(R4),\n",
    "#     4: np.sum(R5),\n",
    "#     5: np.sum(R6),\n",
    "#     6: np.sum(R7),\n",
    "#     7: np.sum(R8),\n",
    "#     8: np.sum(R9),          \n",
    "# }\n",
    "\n",
    "y = {\n",
    "    0: lp.abs(x[0] * R1 - r[0]),\n",
    "    1: abs(x[0] * R1 - r[0]),\n",
    "    2: abs(np.sum(R3) - 9*r[2]),\n",
    "    3: abs(np.sum(R4) - 9*r[3]),\n",
    "    4: abs(np.sum(R5) - 9*r[4]),\n",
    "    5: abs(np.sum(R6) - 9*r[5]),\n",
    "    6: abs(np.sum(R7) - 9*r[6]),\n",
    "    7: abs(np.sum(R8) - 9*r[7]),\n",
    "    8: abs(np.sum(R9) - 9*r[8]),\n",
    "}"
   ]
  },
  {
   "cell_type": "code",
   "execution_count": 21,
   "metadata": {},
   "outputs": [
    {
     "output_type": "stream",
     "name": "stdout",
     "text": [
      "decision variable values for mu =  0.01\nx_0 = 1.0\nx_1 = 0.0\nx_2 = 0.0\nx_3 = 0.0\nx_4 = 0.0\nx_5 = 0.0\nx_6 = 0.0\nx_7 = 0.0\nx_8 = 0.0\nmax:  -0.24096000000000017 \n\ndecision variable values for mu =  0.1\nx_0 = 1.0\nx_1 = 0.0\nx_2 = 0.0\nx_3 = 0.0\nx_4 = 0.0\nx_5 = 0.0\nx_6 = 0.0\nx_7 = 0.0\nx_8 = 0.0\nmax:  -0.15060000000000018 \n\ndecision variable values for mu =  1\nx_0 = 0.0\nx_1 = 0.0\nx_2 = 0.0\nx_3 = 0.0\nx_4 = 0.0\nx_5 = 0.0\nx_6 = 0.0\nx_7 = 1.0\nx_8 = 0.0\nmax:  0.7676875 \n\ndecision variable values for mu =  10\nx_0 = 0.0\nx_1 = 0.0\nx_2 = 0.0\nx_3 = 0.0\nx_4 = 0.0\nx_5 = 0.0\nx_6 = 0.0\nx_7 = 1.0\nx_8 = 0.0\nmax:  9.979937499999998 \n\ndecision variable values for mu =  100\nx_0 = 0.0\nx_1 = 0.0\nx_2 = 0.0\nx_3 = 0.0\nx_4 = 0.0\nx_5 = 0.0\nx_6 = 0.0\nx_7 = 1.0\nx_8 = 0.0\nmax:  102.10243750000001 \n\n"
     ]
    }
   ],
   "source": [
    "for i in range (-2, 3):\n",
    "    mu = 10**i\n",
    "    # instantiate problem\n",
    "    opt = pulp.LpProblem(\"max\", pulp.LpMaximize)\n",
    "\n",
    "    x = pulp.LpVariable.dicts(\"x\", range(9), lowBound=0)\n",
    "\n",
    "    #objective function\n",
    "    opt += pulp.lpSum(mu*x[j]*r[j] - 1/T * x[j]*y[j] for j in range(0, 9))\n",
    "\n",
    "    # Constraints\n",
    "    opt += x[0] + x[1] + x[2] + x[3] + x[4] + x[5] + x[6] + x[7] + x[8]  == 1 \n",
    "\n",
    "    opt.solve()\n",
    "    print(\"decision variable values for mu = \", mu)\n",
    "    for var in opt.variables():\n",
    "        print(var.name,\"=\",var.varValue)\n",
    "    print(\"max: \", pulp.value(opt.objective), \"\\n\")\n",
    "    # print(opt)"
   ]
  },
  {
   "cell_type": "code",
   "execution_count": null,
   "metadata": {},
   "outputs": [],
   "source": []
  }
 ],
 "metadata": {
  "kernelspec": {
   "name": "python3",
   "display_name": "Python 3.8.1 64-bit"
  },
  "language_info": {
   "codemirror_mode": {
    "name": "ipython",
    "version": 3
   },
   "file_extension": ".py",
   "mimetype": "text/x-python",
   "name": "python",
   "nbconvert_exporter": "python",
   "pygments_lexer": "ipython3",
   "version": "3.8.1"
  }
 },
 "nbformat": 4,
 "nbformat_minor": 4
}