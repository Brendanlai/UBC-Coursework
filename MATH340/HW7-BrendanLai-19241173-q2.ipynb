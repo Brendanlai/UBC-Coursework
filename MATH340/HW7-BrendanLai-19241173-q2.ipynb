{
 "cells": [
  {
   "cell_type": "code",
   "execution_count": 1,
   "metadata": {},
   "outputs": [],
   "source": [
    "# math340 - HW7 - Brendan Lai - 19241173\n",
    "import pulp"
   ]
  },
  {
   "cell_type": "code",
   "execution_count": 2,
   "metadata": {},
   "outputs": [],
   "source": [
    "x1 = pulp.LpVariable(\"x1\", lowBound=0) # soft alloy\n",
    "x2 = pulp.LpVariable(\"x2\", lowBound=0) # hard alloy\n",
    "x3 = pulp.LpVariable(\"x3\", lowBound=0) # strong alloy\n",
    "\n",
    "optimum = pulp.LpProblem(\"max\",pulp.LpMaximize)\n",
    "\n",
    "optimum += 250*x1 + 300*x2 + 400*x3, \"objective function\"\n",
    "\n",
    "# Constraints\n",
    "optimum += 5*x1 + 3*x2 + 5*x3 <= 100\n",
    "optimum += 3*x1 + 5*x2 + 5*x3 <= 80"
   ]
  },
  {
   "cell_type": "code",
   "execution_count": 3,
   "metadata": {},
   "outputs": [
    {
     "name": "stdout",
     "output_type": "stream",
     "text": [
      "decision variable values\n",
      "x1 = 10.0\n",
      "x2 = 0.0\n",
      "x3 = 10.0\n",
      "\n",
      "max:\n",
      "6500.0\n"
     ]
    }
   ],
   "source": [
    "optimum.solve()\n",
    "print(\"decision variable values\")\n",
    "\n",
    "for variable in optimum.variables():\n",
    "    print(variable.name,\"=\",variable.varValue)\n",
    "\n",
    "print(\"\\nmax:\")\n",
    "print(pulp.value(optimum.objective))"
   ]
  },
  {
   "cell_type": "code",
   "execution_count": null,
   "metadata": {},
   "outputs": [],
   "source": []
  }
 ],
 "metadata": {
  "kernelspec": {
   "display_name": "Python 3",
   "language": "python",
   "name": "python3"
  },
  "language_info": {
   "codemirror_mode": {
    "name": "ipython",
    "version": 3
   },
   "file_extension": ".py",
   "mimetype": "text/x-python",
   "name": "python",
   "nbconvert_exporter": "python",
   "pygments_lexer": "ipython3",
   "version": "3.8.1"
  }
 },
 "nbformat": 4,
 "nbformat_minor": 4
}
