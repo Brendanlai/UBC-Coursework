{
 "cells": [
  {
   "cell_type": "code",
   "execution_count": 1,
   "metadata": {},
   "outputs": [],
   "source": [
    "#Brendan Lai - 19241173\n",
    "import pulp"
   ]
  },
  {
   "cell_type": "code",
   "execution_count": 2,
   "metadata": {},
   "outputs": [],
   "source": [
    "m = n =10;\n",
    "\n",
    "col = [j + 1 for j in range(n)]\n",
    "row = [i + 1 for i in range(m)]\n",
    "\n",
    "A = {i: {j: ((-2)**(i+j) * (i*i - j*j)) for j in col} for i in row}\n",
    "B = {i: ((-2)**i) for i in row}"
   ]
  },
  {
   "cell_type": "code",
   "execution_count": 3,
   "metadata": {},
   "outputs": [],
   "source": [
    "#Formulate the variables\n",
    "x = pulp.LpVariable.dicts(\"x\", range(n), lowBound=0) # Instantiate optimum variables (n=10 of them)\n",
    "\n",
    "optimum = pulp.LpProblem(\"max\",pulp.LpMaximize)\n",
    "optimum += pulp.lpSum(1+x[0]), \"objective function\" "
   ]
  },
  {
   "cell_type": "code",
   "execution_count": 4,
   "metadata": {},
   "outputs": [],
   "source": [
    "# Constraints\n",
    "# note that the indexing needed to be adjusted since the Lp variables are zero based while the dictionary lists (A and B) are 1 based indexed\n",
    "for i in range(1, n + 1):\n",
    "    lhs = pulp.lpSum(A[i][j] * x[j - 1] for j in range (1, n + 1)) \n",
    "    rhs = pulp.lpSum([B[i]])\n",
    "#     print(lhs, \"<=\",  rhs) Uncomment to unravel each individual constraint\n",
    "    optimum += lhs <= rhs\n",
    "    \n",
    "# ------ overflows onto next page ------- #"
   ]
  },
  {
   "cell_type": "code",
   "execution_count": 5,
   "metadata": {},
   "outputs": [
    {
     "name": "stdout",
     "output_type": "stream",
     "text": [
      "Yes, a vector satisifes (*) where m=n=10 and an existent vector x is:\n",
      "\n",
      "x_0 = 0.0\n",
      "x_1 = 0.0032467532\n",
      "x_2 = 0.0\n",
      "x_3 = 0.0\n",
      "x_4 = 0.0\n",
      "x_5 = 0.0\n",
      "x_6 = 0.0\n",
      "x_7 = 0.0\n",
      "x_8 = 2.536526e-05\n",
      "x_9 = 0.0\n"
     ]
    }
   ],
   "source": [
    "optimum.solve()\n",
    "print(\"Yes, a vector satisifes (*) where m=n=10 and an existent vector x is:\\n\")\n",
    "\n",
    "for variable in optimum.variables():\n",
    "    print(variable.name,\"=\",variable.varValue)\n",
    "# print(\"\\nmax:\", pulp.value(optimum.objective))"
   ]
  },
  {
   "cell_type": "code",
   "execution_count": null,
   "metadata": {},
   "outputs": [],
   "source": []
  }
 ],
 "metadata": {
  "kernelspec": {
   "display_name": "Python 3",
   "language": "python",
   "name": "python3"
  },
  "language_info": {
   "codemirror_mode": {
    "name": "ipython",
    "version": 3
   },
   "file_extension": ".py",
   "mimetype": "text/x-python",
   "name": "python",
   "nbconvert_exporter": "python",
   "pygments_lexer": "ipython3",
   "version": "3.8.1"
  }
 },
 "nbformat": 4,
 "nbformat_minor": 4
}
