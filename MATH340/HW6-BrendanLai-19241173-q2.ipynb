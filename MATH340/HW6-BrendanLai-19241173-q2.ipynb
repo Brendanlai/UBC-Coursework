{
 "cells": [
  {
   "cell_type": "code",
   "execution_count": 1,
   "metadata": {},
   "outputs": [],
   "source": [
    "# Brendan Lai - 19241173\n",
    "import pulp"
   ]
  },
  {
   "cell_type": "code",
   "execution_count": 2,
   "metadata": {},
   "outputs": [],
   "source": [
    "# ----- Formulate the problem -----\n",
    "# Variables\n",
    "x1 = pulp.LpVariable(\"x1\", lowBound=0) # relationship between node 1 and node 2\n",
    "x2 = pulp.LpVariable(\"x2\", lowBound=0) # relationship between node 1 and node 3\n",
    "x3 = pulp.LpVariable(\"x3\", lowBound=0) # relationship between node 2 and node 3\n",
    "x4 = pulp.LpVariable(\"x4\", lowBound=0) # relationship between node 3 and node 4\n",
    "x5 = pulp.LpVariable(\"x5\", lowBound=0) # relationship between node 3 and node 5\n",
    "x6 = pulp.LpVariable(\"x6\", lowBound=0) # relationship between node 4 and node 1\n",
    "x7 = pulp.LpVariable(\"x7\", lowBound=0) # relationship between node 4 and node 5\n",
    "x8 = pulp.LpVariable(\"x8\", lowBound=0) # relationship between node 5 and node 2\n",
    "\n",
    "optimum = pulp.LpProblem(\"min\",pulp.LpMinimize)\n",
    "\n",
    "optimum += 2*x1 + 5*x2 + 3*x3 + (-2)*x4 + 7*x5 + 0*x6 +2*x7 + 4*x8, \"objective function\"\n",
    "\n",
    "# Constraints\n",
    "optimum += -x1 - x2 + x6 == 2\n",
    "optimum += x1 - x3 + x8 == -4\n",
    "optimum += x3 - x4 - x5 == -3\n",
    "optimum += x4 - x6 - x7 == 2 \n",
    "optimum += x5 + x7 - x8 == 3"
   ]
  },
  {
   "cell_type": "code",
   "execution_count": 3,
   "metadata": {},
   "outputs": [
    {
     "name": "stdout",
     "output_type": "stream",
     "text": [
      "decision variable values\n",
      "x1 = 0.0\n",
      "x2 = 0.0\n",
      "x3 = 4.0\n",
      "x4 = 7.0\n",
      "x5 = 0.0\n",
      "x6 = 2.0\n",
      "x7 = 3.0\n",
      "x8 = 0.0\n",
      "\n",
      "min:\n"
     ]
    },
    {
     "data": {
      "text/plain": [
       "4.0"
      ]
     },
     "execution_count": 3,
     "metadata": {},
     "output_type": "execute_result"
    }
   ],
   "source": [
    "optimum.solve()\n",
    "print(\"decision variable values\")\n",
    "\n",
    "for variable in optimum.variables():\n",
    "    print(variable.name,\"=\",variable.varValue)\n",
    "\n",
    "print(\"\\nmin:\")\n",
    "pulp.value(optimum.objective)"
   ]
  },
  {
   "cell_type": "markdown",
   "metadata": {},
   "source": [
    "Each variable is describing the relationship of flow between two different nodes. Thus is x1 represents the flow of units from node 1 to 2. Further the supply for each node is given b the numbers net tot he node and the constant vector is given by the cost of moving from node x to node y.\n",
    "\n",
    "By solving the linear program we see that the minimum of meeting supply and demand is 4 units"
   ]
  },
  {
   "cell_type": "code",
   "execution_count": null,
   "metadata": {},
   "outputs": [],
   "source": []
  }
 ],
 "metadata": {
  "kernelspec": {
   "display_name": "Python 3",
   "language": "python",
   "name": "python3"
  },
  "language_info": {
   "codemirror_mode": {
    "name": "ipython",
    "version": 3
   },
   "file_extension": ".py",
   "mimetype": "text/x-python",
   "name": "python",
   "nbconvert_exporter": "python",
   "pygments_lexer": "ipython3",
   "version": "3.8.1"
  }
 },
 "nbformat": 4,
 "nbformat_minor": 4
}
