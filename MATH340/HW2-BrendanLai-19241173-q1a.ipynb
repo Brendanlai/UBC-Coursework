{
 "cells": [
  {
   "cell_type": "code",
   "execution_count": 1,
   "metadata": {},
   "outputs": [],
   "source": [
    "# Brendan lai - 19241173\n",
    "import pulp"
   ]
  },
  {
   "cell_type": "code",
   "execution_count": 2,
   "metadata": {},
   "outputs": [],
   "source": [
    "# ----- Formulate the problem -----\n",
    "# Variables\n",
    "x1 = pulp.LpVariable(\"x1\", lowBound=0) \n",
    "x2 = pulp.LpVariable(\"x2\", lowBound=0)\n",
    "x3 = pulp.LpVariable(\"x3\", lowBound=0)\n",
    "x4 = pulp.LpVariable(\"x4\", lowBound=0)\n",
    "x5 = pulp.LpVariable(\"x5\", lowBound=0)\n",
    "x6 = pulp.LpVariable(\"x6\", lowBound=0)\n",
    "x7 = pulp.LpVariable(\"x7\", lowBound=0)\n",
    "x8 = pulp.LpVariable(\"x8\", lowBound=0)\n",
    "x9 = pulp.LpVariable(\"x9\", lowBound=0)\n",
    "\n",
    "optimum=pulp.LpProblem(\"max\",pulp.LpMaximize)\n",
    "optimum += 300*x1 + 220*x2 + 100*x3 + 160*x4 + 130*x5 + 80*x6 + 360*x7 + 280*x8 + 140*x9, \"objective function\"\n",
    "\n",
    "# Constraints\n",
    "optimum += x1 + x2 + x3 + x7 + x8 + x9 <= 30\n",
    "optimum += x4 + x5 + x6 + x7 + x8 + x9 <= 30\n",
    "optimum += x1 <= 4\n",
    "optimum += x2 <= 8\n",
    "optimum += x3 <= 22\n",
    "optimum += x4 <= 8\n",
    "optimum += x5 <= 13\n",
    "optimum += x6 <= 20\n",
    "optimum += x7 <= 3\n",
    "optimum += x8 <= 10\n",
    "optimum += x9 <= 18"
   ]
  },
  {
   "cell_type": "code",
   "execution_count": 3,
   "metadata": {},
   "outputs": [
    {
     "name": "stdout",
     "output_type": "stream",
     "text": [
      "decision variable values\n",
      "x1 = 4.0\n",
      "x2 = 8.0\n",
      "x3 = 5.0\n",
      "x4 = 8.0\n",
      "x5 = 9.0\n",
      "x6 = 0.0\n",
      "x7 = 3.0\n",
      "x8 = 10.0\n",
      "x9 = 0.0\n",
      "\n",
      "max:\n"
     ]
    },
    {
     "data": {
      "text/plain": [
       "9790.0"
      ]
     },
     "execution_count": 3,
     "metadata": {},
     "output_type": "execute_result"
    }
   ],
   "source": [
    "optimum.solve()\n",
    "print(\"decision variable values\")\n",
    "\n",
    "for variable in optimum.variables():\n",
    "    print(variable.name,\"=\",variable.varValue)\n",
    "\n",
    "print(\"\\nmax:\")\n",
    "pulp.value(optimum.objective)"
   ]
  },
  {
   "cell_type": "code",
   "execution_count": null,
   "metadata": {},
   "outputs": [],
   "source": []
  }
 ],
 "metadata": {
  "kernelspec": {
   "display_name": "Python 3",
   "language": "python",
   "name": "python3"
  },
  "language_info": {
   "codemirror_mode": {
    "name": "ipython",
    "version": 3
   },
   "file_extension": ".py",
   "mimetype": "text/x-python",
   "name": "python",
   "nbconvert_exporter": "python",
   "pygments_lexer": "ipython3",
   "version": "3.8.1"
  }
 },
 "nbformat": 4,
 "nbformat_minor": 4
}
