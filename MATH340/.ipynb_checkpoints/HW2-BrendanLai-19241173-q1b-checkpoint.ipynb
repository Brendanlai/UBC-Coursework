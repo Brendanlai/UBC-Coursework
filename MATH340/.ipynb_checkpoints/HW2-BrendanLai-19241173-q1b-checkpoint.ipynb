{
 "cells": [
  {
   "cell_type": "code",
   "execution_count": 1,
   "metadata": {},
   "outputs": [],
   "source": [
    "# Brendan lai - 19241173\n",
    "import pulp"
   ]
  },
  {
   "cell_type": "code",
   "execution_count": 2,
   "metadata": {},
   "outputs": [],
   "source": [
    "# ----- Formulate the problem -----\n",
    "# Variables\n",
    "x1 = pulp.LpVariable(\"x1\", lowBound=0) # No. of employees starting at 0:00\n",
    "x2 = pulp.LpVariable(\"x2\", lowBound=0) # No. of employees starting at 4:00\n",
    "x3 = pulp.LpVariable(\"x3\", lowBound=0) # No. of employees starting at 8:00\n",
    "x4 = pulp.LpVariable(\"x4\", lowBound=0) # No. of employees starting at 12:00\n",
    "x5 = pulp.LpVariable(\"x5\", lowBound=0) # No. of employees starting at 16:00\n",
    "x6 = pulp.LpVariable(\"x6\", lowBound=0) # No. of employees starting at 20:00\n",
    "\n",
    "optimum = pulp.LpProblem(\"min\",pulp.LpMinimize)\n",
    "optimum += x1 + x2 + x3 + x4 + x5 + x6, \"objective function\"\n",
    "\n",
    "# Constraints\n",
    "optimum += x1 + x6 >= 15\n",
    "optimum += x1 + x2 >= 35\n",
    "optimum += x2 + x3 >= 65\n",
    "optimum += x3 + x4 >= 80\n",
    "optimum += x4 + x5 >= 40\n",
    "optimum += x5 + x6 >= 25"
   ]
  },
  {
   "cell_type": "code",
   "execution_count": 3,
   "metadata": {},
   "outputs": [
    {
     "name": "stdout",
     "output_type": "stream",
     "text": [
      "decision variable values\n",
      "x1 = 0.0\n",
      "x2 = 35.0\n",
      "x3 = 30.0\n",
      "x4 = 50.0\n",
      "x5 = 10.0\n",
      "x6 = 15.0\n",
      "\n",
      "max:\n",
      "\n",
      "Assuming that we have had at least 15 people start at 20:00 on the previous day then the above is the optimal schedule\n"
     ]
    }
   ],
   "source": [
    "optimum.solve()\n",
    "print(\"decision variable values\")\n",
    "\n",
    "for variable in optimum.variables():\n",
    "    print(variable.name,\"=\",variable.varValue)\n",
    "\n",
    "print(\"\\nmax:\")\n",
    "pulp.value(optimum.objective)\n",
    "\n",
    "print(\"\\nAssuming that we have had at least 15 people start at 20:00 on the previous day then the above is the optimal schedule\")"
   ]
  },
  {
   "cell_type": "code",
   "execution_count": null,
   "metadata": {},
   "outputs": [],
   "source": []
  }
 ],
 "metadata": {
  "kernelspec": {
   "display_name": "Python 3",
   "language": "python",
   "name": "python3"
  },
  "language_info": {
   "codemirror_mode": {
    "name": "ipython",
    "version": 3
   },
   "file_extension": ".py",
   "mimetype": "text/x-python",
   "name": "python",
   "nbconvert_exporter": "python",
   "pygments_lexer": "ipython3",
   "version": "3.8.1"
  }
 },
 "nbformat": 4,
 "nbformat_minor": 4
}
